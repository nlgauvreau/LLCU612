{
 "cells": [
  {
   "cell_type": "markdown",
   "metadata": {},
   "source": [
    "# Fan Sentiment Towards <i>Broadchruch</i> based on Fan-Writen Works"
   ]
  },
  {
   "attachments": {},
   "cell_type": "markdown",
   "metadata": {},
   "source": [
    "Fanfiction (works written by fans of a book, television or online streaming program, movie, comic, etc.) often diverges significantly from the canon work and could be seen as what fans would prefer to have happened. These works may also show how people feel about characters from the canon by protraying the characters very differently. For example, the are many fanfictions that show portray the <i>Harry Potter</i> characters Severus Snape and Draco Malfoy fondly, despite Snape being an antihero and Draco Malfoy largely an antagonist in J.K. Rowling's original work."
   ]
  },
  {
   "attachments": {},
   "cell_type": "markdown",
   "metadata": {},
   "source": [
    "This project seeks to assess fan sentiment towards characters in ITV's 2013 to 2017 <i>Broadchurch</i>, using text mining with Python 3 to look at parts of speech, semantics, collocates, and sentiment analysis. The works examined were all posted the fanfiction website Archive of Our Own (AO3), marked as complete by their authors, written in English, and are not crossovers (works containg characters or settings from multiple fictional worlds)."
   ]
  },
  {
   "cell_type": "code",
   "execution_count": null,
   "metadata": {
    "collapsed": true
   },
   "outputs": [],
   "source": []
  }
 ],
 "metadata": {
  "kernelspec": {
   "display_name": "Python 3",
   "language": "python",
   "name": "python3"
  },
  "language_info": {
   "codemirror_mode": {
    "name": "ipython",
    "version": 3
   },
   "file_extension": ".py",
   "mimetype": "text/x-python",
   "name": "python",
   "nbconvert_exporter": "python",
   "pygments_lexer": "ipython3",
   "version": "3.6.8"
  }
 },
 "nbformat": 4,
 "nbformat_minor": 2
}
