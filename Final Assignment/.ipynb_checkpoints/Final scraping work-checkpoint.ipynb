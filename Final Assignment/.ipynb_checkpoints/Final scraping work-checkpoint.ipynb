{
 "cells": [
  {
   "cell_type": "code",
   "execution_count": 13,
   "metadata": {
    "collapsed": true
   },
   "outputs": [],
   "source": [
    "import os\n",
    "\n",
    "directory = \"broadchurch\"\n",
    "if not os.path.exists(directory):\n",
    "    os.makedirs(directory)"
   ]
  },
  {
   "cell_type": "code",
   "execution_count": 14,
   "metadata": {
    "collapsed": true
   },
   "outputs": [],
   "source": [
    "import urllib.request\n",
    "def fetch(url):\n",
    "    response = urllib.request.urlopen(url)\n",
    "    return response.read()"
   ]
  },
  {
   "cell_type": "code",
   "execution_count": 15,
   "metadata": {},
   "outputs": [
    {
     "data": {
      "text/plain": [
       "b'<!DOCTYPE html>\\n<html lang=\"en\">\\n  <head>\\n    <meta charset=\"utf-8\"/>\\n    <meta '"
      ]
     },
     "execution_count": 15,
     "metadata": {},
     "output_type": "execute_result"
    }
   ],
   "source": [
    "work1url = \"https://archiveofourown.org/works/18157349\"\n",
    "work1source = fetch(work1url) \n",
    "work1source[0:80]"
   ]
  },
  {
   "cell_type": "code",
   "execution_count": 23,
   "metadata": {},
   "outputs": [
    {
     "name": "stdout",
     "output_type": "stream",
     "text": [
      "There must be thousands of people in this city who are dying to welcome you into their small bolted rooms, to sit you down and tell you what has happened to their lives. And the night smells like snow. Walking home, for a moment you almost believe you could start again. And an intense love rushes to your heart, and hope. It’s unendurable, unendurable.- Franz Wright, “East Boston, 1996″Ellie wakes early, unused to the brightness the morning light produces in her newly painted bedroom. And, if she's being honest, completely fucking thrown by the hefty weight of Alec's arm around her waist. She takes a few deep breaths, and then delicately removes his arm from its resting place, adjusting herself so that she can catalog his sleeping form. She allows herself a few moments to trace the scar on his chest, run her fingers through the soft hair there. Sex looks good on him, she thinks, wryly. “Time is it?” he mumbles, bleary-eyed and irritatingly charming at this early hour. She must've woken him up. “Mmm. About half eight.” She directs her gaze back to her fingers tracing his scar, embarrassed suddenly at being caught watching him sleep.  Alec stills the motion of her hand on his chest, bringing it up to his mouth to press soft kisses to her fingertips. Ellie’s breath hitches at the gesture, and she buries her face in her pillow, a sad attempt at hiding her watery smile. She wonder briefly if she’ll cry.She has never been good at this, the morning-after bit. Last night he’d pushed himself inside of her with something like tenderness, and after, when she’d whispered I love you as he tucked errant curls behind her ear, she almost didn’t regret it.But now — in the harsh morning light — she wonders what to do with all of this vulnerability, this leftover tenderness that threatens to spill out of her. Alec tangles their legs together underneath the sheets, and she takes a moment to inventory all that she’s learned about him in the past twelve hours.She has shared a bed with him before, of course. And while she already knew he didn’t snore, she finds she quite likes the warmth of him beside her, is pleasantly surprised by the amount of hair on his chest, the space he takes up in her bed.“What are you thinking about?” His voice cuts through her anxious musings.She lifts her head from her pillow, then, and inches closer to him. It would be a shame to waste all of that body heat.“Mmm, nothing. Just that I need to get up soon. Gotta pick up the boys from Lucy’s.”“I should get going, too. Think Daisy’s heading home from Chloe’s soon.” He makes no motion to move, though, and his hands start their own lazy inventory of her body. “Think you can tolerate me for an extra five minutes?” He murmurs, his voice a soft, rumbling sound close to her ear.She chuckles, her breathing starting to quicken at the way he nibbles on her neck. “Extra five minutes, huh? That doesn’t sound very promising.”He bites the skin between her neck and shoulder in retaliation, soothing it quickly with his tongue before continuing his ministrations. He pauses briefly on his trek downward, letting his tongue dip into her belly button, and says, “I’ll make it worth your while.”Ellie lets out a breathy sigh and lays her head back against the pillow, content to stop thinking for the moment. An extra five minutes doesn't sound so bad. Later, when she comes downstairs to walk him out, she’s dressed to pick up the boys in a jumper with a high neckline. His kiss goodbye is soft, but firm, and she swears there is smugness about him that wasn’t there the night before.Late into their third month, during one of their many failed movie nights, she asks: “Do we tell people about us?”The boys are safely tucked in upstairs, Fred having finally succumbed to sleep after guilting Alec into reading him three stories. With special voices, of course.Ellie had been so charmed by his animation, and the deep, gruff voice he employed for all of the beasts in Where the Wild Things Are, that she had nixed her original movie-watching plans. It is rare that she gets to observe him in moments like this, where she gets a glimpse at what he might have been like as a young father. It is disconcerting, how much she likes it. He had been in the middle of collecting his reward for getting Fred to sleep when she had stopped him. Now, he runs his fingers through his hair and straightens his shirt before asking, “Do you want to? Tell people about us, I mean.”She smiles, a little sadly, and briefly mourns the version of herself that would have already told Beth ten times over. Things had changed. “I’d like to tell the kids, at least.”“We can do that.\" He moves to take her hand, his thumb stroking her knuckles. \"Why all of the sudden, though?\"Shortly after their first night together they had decided to keep this thing between the two of them, both in agreement that the people of Broadchurch had enough to gossip about without adding further fuel to the fire. They had enjoyed the secrecy of it, though. Had gotten pleasure in searching for stolen moments, sneaking each other upstairs long after their kids had gone to bed, trying to be quiet. Telling their kids was, essentially, opening their relationship up to scrutiny. And, it was admitting that it was, in fact, a real relationship. A serious relationship.\"Mmm, I've decided I like you.\" At his cheeky grin, she amends: \"A little. Still on the fence about your taste in movies.\"\"And your cooking is shit,\" he says, with a chuckle. He removes his hand from hers, and cups her cheek, his thumb outlining her fine bone structure. \"But yeah, I like you too.\"This time, when he kisses her, she doesn't interrupt. They plan to tell their children about their relationship all at once, a not-quite family meeting in Ellie’s sitting room. She had fretted about it for weeks, bought books about dating with children, highlighted whole paragraphs.Tom and Daisy had formed a tentative friendship after Daisy’s arrival in Broadchurch. Daisy had taken to Fred instantly, though, and had become his self-appointed child minder when Alec and Ellie were out late on a case. And, as a consequence of their increasingly hectic work schedule, their children spent quite a bit of time together. Though she knew, rationally, that their changing relationship would not drastically alter the day-to-day grind of their two families, she still worried. Ellie had found that parenting two children alone was mostly about worrying, and preparing for the unexpected every day. She is furious with herself, then, when the conversation with Tom, Fred, and Daisy veers into the unexpected. Much to Ellie’s dismay — and Alec’s complete embarrassment — they were not as covert as they had thought. In the middle of her long and nurturing explanation on the changing nature of adult relationships, and the importance of moving on, Tom and Daisy start laughing.“Mum,” Tom says, snorting, “We’ve known for weeks.”“What? How?”Tom smirks. “Our parents are detectives. Think we’ve learned the trade by now.”“Also, I um— I found women’s pants in the dryer at dad’s house. Figured they weren’t his,” Daisy says, a crimson blush working its way across her cheeks.“Right. Well. You guys are okay with it, then?” Alec asks, wishing for a massive sinkhole to open up beneath him, right here in Ellie’s sitting room.Daisy gets up from her spot on the couch, suddenly, and kisses Alec’s cheek. “I like Ellie, dad. Always have,” she says, while moving in to give Ellie a hug. “Just maybe… be more careful about the pants. And if I hear anything, I’m moving back to Sandbrook.”Tom nods, hoisting Fred up and moving to join Daisy. “Same goes for you, Mum.”Ellie barks out a laugh, and then buries her face in Alec’s shoulder.“I think we’ve just been given a warning by our children,” she says, her voice muffled by his t-shirt.“Looks that way, doesn’t it?” He makes a show of scooting away from her, measuring out the distance between them on the couch. “Now quit leaning on me. Tom seemed rather serious,” he teases.“Wanker,” she says, playfully slapping his shoulder.It takes five months for Alec to start sleeping over with some regularity. He is not a permanent fixture in her home, but is around often enough for a lingering presence to be felt long after he leaves. A pair of his trousers hangs limply over the chair in her bedroom, an old paperback he’s been reading sits on the nightstand by his side of the bed. She buys his favourite tea at Tesco’s.It is unspeakable, this new intimacy of theirs. She finds she cannot think about it, cannot stop to consider how it is that she’s come to love and depend on this grumpy, scruffy Scot.Tonight she wakes him up with the sound of her cries. After Joe, she’d been plagued with nightmares and panic attacks, but they had dwindled when she’d started taking diazepam. This is her first in months.In it, she dreams of Danny, and of Joe. She doesn’t know what it says about her, that even in her dreams she isn’t able to save him, isn’t able to recognize the signs of paedophelia in Joe until it’s too late. But she kills him. In her dreams, she is creative. Wraps her hands around his neck, pushes him off cliffs, shoots him with a gun.She wakes to the gentle press of hands on her waist, a whispered, “It’s alright, love,” in her ear.“God, I’m sorry. I just—“ She bolts out of bed, barely making it into the bathroom before vomiting.After she finishes, she stays on the bathroom floor, hoping the cool tiles will soothe her, make her less clammy. She hears Alec pad into the bathroom, later, a towel and glass of water in hand.“Thanks,” she says, taking the proffered items.There is a lingering silence between them while she goes about cleaning herself up at the sink. She rinses her mouth out twice, and then splashes cold water on her face. All the while, he watches her, his back to the bathroom counter.Finally, he says: “We could talk about it.”Ellie lets out a long, impatient sigh. She had hoped he wouldn’t say that. Actually, she had hoped to never address it. Wasn’t there an unwritten rule about dating that says you should wait at least a year before revealing any skeletons in your closet? Not that they'd ever been rule followers.She turns to him, then, and says, “Nothing to talk about.”“Is it Joe?”“And Danny.”He frowns sympathetically at her, then busies himself making soothing circles on her back. Clearly, he is waiting for her to elaborate.“Do you remember what Susan Wright said to us? About death, and how once its got its claws in you, it doesn’t let go? I think maybe— I think she was right.” She swipes the tears off of her face before continuing. “I still have nightmares about him. Joe, I mean. I kill him every time, and in my dreams I’m so angry, I don’t know what do, Alec I’m—“She crumples into him, then, her tears soaking into his shirt. She holds onto him until her breathing regulates, and the nausea subsides, wondering briefly when his generic soap and deodorant smell had become the only thing in the world capable of calming her down.“Come on,” he says. “Let’s get some rest.”He leads her back to bed and folds himself around her like a question mark, his arm a pleasurable weight across her midriff.  She won't sleep again tonight, but she is glad he's here. Glad he's chosen to stay.It takes a full year for them to start blending their relationship and family lives together. Daisy has only recently started to spend the night at Ellie’s when her father does.They try to make the transition as easy as possible. Ellie stresses the importance of family dinners, despite being the only person in the house incapable of putting together a single dish.It is during one of these family dinners — in the middle of some confusing debate between Tom and Daisy over the best Great British Bake Off contestant — that she realises how happy she is. The sensation is so strong, and abrupt, that she has to excuse herself from the table.She wipes at her eyes in the loo, and then takes a few calming breaths before rejoining them all at the table, smiling at Alec’s questioning gaze.Later, after they've finished their meal, he joins her in the kitchen. He grabs a towel and starts to dry and put away the dishes she's washed.\"Were you alright back there? At dinner?\" He asks, reaching to grab another plate from her hand. “I never thought that I could have this again,” she says, somewhat awestruck. She is staring out the window while she washes, watching as Tom swings Fred around by the arms. Loud, high-pitched giggles emanate from their yard, Fred squealing in delight both at the motion, and at Daisy taking their picture from a safe spot across the grass. The sight of them all together, relatively happy, makes her heart so full she thinks it might burst.   Ellie knows that they’ve got a long ways to go, yet. Joe had left them all battered and bruised, a little worse for the wear. In her worst moments, she thinks she’ll never rid herself of the black cloud he had cast over their family; instead, steeling herself for years and years of unhappiness.  But now, in this kitchen with Alec, soaping up dishes while their children soak up the last of the daylight, it’s impossible to think that things won’t get better. That they won’t all, in fact, be perfectly alright.\n"
     ]
    }
   ],
   "source": [
    "import urllib.request\n",
    "from bs4 import BeautifulSoup\n",
    "work1response = urllib.request.urlopen(\"https://archiveofourown.org/works/18157349\")\n",
    "work1 = work1response.read()\n",
    "work1soup = BeautifulSoup(work1, \"lxml\")\n",
    "for work1text in work1soup.find_all(\"div\", class_=\"userstuff\"):\n",
    "    print(userstuff.text)"
   ]
  },
  {
   "cell_type": "code",
   "execution_count": 28,
   "metadata": {
    "scrolled": true
   },
   "outputs": [
    {
     "ename": "TypeError",
     "evalue": "expected str, bytes or os.PathLike object, not Tag",
     "output_type": "error",
     "traceback": [
      "\u001b[0;31m---------------------------------------------------------------------------\u001b[0m",
      "\u001b[0;31mTypeError\u001b[0m                                 Traceback (most recent call last)",
      "\u001b[0;32m<ipython-input-28-7d053a1c6bb2>\u001b[0m in \u001b[0;36m<module>\u001b[0;34m()\u001b[0m\n\u001b[0;32m----> 1\u001b[0;31m \u001b[0;32mwith\u001b[0m \u001b[0mopen\u001b[0m\u001b[0;34m(\u001b[0m\u001b[0mwork1text\u001b[0m\u001b[0;34m,\u001b[0m \u001b[0;34m'w'\u001b[0m\u001b[0;34m)\u001b[0m \u001b[0;32mas\u001b[0m \u001b[0mwf\u001b[0m\u001b[0;34m:\u001b[0m\u001b[0;34m\u001b[0m\u001b[0;34m\u001b[0m\u001b[0m\n\u001b[0m\u001b[1;32m      2\u001b[0m     \u001b[0mwrite\u001b[0m\u001b[0;34m(\u001b[0m\u001b[0muserstuff\u001b[0m\u001b[0;34m.\u001b[0m\u001b[0mtext\u001b[0m\u001b[0;34m)\u001b[0m\u001b[0;34m\u001b[0m\u001b[0;34m\u001b[0m\u001b[0m\n",
      "\u001b[0;31mTypeError\u001b[0m: expected str, bytes or os.PathLike object, not Tag"
     ]
    }
   ],
   "source": [
    "with open(work1text, 'w') as wf:\n",
    "    write(userstuff.text)"
   ]
  },
  {
   "cell_type": "code",
   "execution_count": null,
   "metadata": {
    "collapsed": true
   },
   "outputs": [],
   "source": []
  }
 ],
 "metadata": {
  "kernelspec": {
   "display_name": "Python 3",
   "language": "python",
   "name": "python3"
  },
  "language_info": {
   "codemirror_mode": {
    "name": "ipython",
    "version": 3
   },
   "file_extension": ".py",
   "mimetype": "text/x-python",
   "name": "python",
   "nbconvert_exporter": "python",
   "pygments_lexer": "ipython3",
   "version": "3.6.8"
  }
 },
 "nbformat": 4,
 "nbformat_minor": 2
}
