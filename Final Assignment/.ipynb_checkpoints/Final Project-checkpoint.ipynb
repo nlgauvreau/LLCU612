{
 "cells": [
  {
   "cell_type": "markdown",
   "metadata": {},
   "source": [
    "# Fan Sentiment Towards <i>The Marvelous Mrs. Maisel</i> based on Fan-Writen Works"
   ]
  },
  {
   "cell_type": "markdown",
   "metadata": {},
   "source": [
    "### Introduction"
   ]
  },
  {
   "cell_type": "markdown",
   "metadata": {},
   "source": [
    "<p>Fanfiction (works written by fans of a book, television or online streaming program, movie, comic, etc.) often diverges significantly from the canon work (i.e. the original work on which fanfiction stories are based) and could be seen as what fans would prefer to have happened. These works may also show how people feel about characters from the canon by portraying the characters differently. For example, the are many fanfictions that show portray the <i>Harry Potter</i> characters Severus Snape and Draco Malfoy fondly, despite Snape being an antihero and Draco Malfoy largely an antagonist in J.K. Rowling's original work.</p>\n",
    "<p>Previous scholarship has looked at how fan works differ from cannon works, including gender represenation and character portrayal (Bamman & Milli, 2015; Strauch, 2016); the stylistics of fanfiction (Girouard & Rubin, 2013); and fanfiction as transforamtive work (Van Steenhuyse, 2011). It has also come to this author's attention that there is currently a McGill undergraduate student working on quantifying queer dynamics in fanfiction using Digital Humanites methods and a McGill PhD student lookign at fanfiction in the context of copyright.</p>\n",
    "<p>This project seeks to assess fan sentiment towards the characters of Amazon Prime's 2017 to present <i>The Marvelous Mrs. Maisel</i>, using text mining with Python 3 and Voyant Tools to look at parts of speech and collocates. The works examined were all posted the fanfiction website Archive of Our Own (AO3), marked as complete by their authors, written in English, had a word count of at least one word (AO3 users can upload artworks or links to vieos as well), and are not crossovers (works containg characters or settings from multiple fictional worlds). This resulted in a small corpus (47 works), which likely leads to imprecise or inaccurate results. An ideal iteration of this project would use: \n",
    "<ul>\n",
    "<li>a significantly larger corpus of works</li> \n",
    "<li>a fandom with more clearly defined protangonists, antagonists, and antiheroes</li>\n",
    "<li>works from multiple sites hosting fanfiction\n",
    "<ul>\n",
    "<li>AO3</li>\n",
    "<li>fanfiction.net</li>\n",
    "<li>LiveJournal</li>\n",
    "<li>fandom specific sites</li>\n",
    "</ul></li></ul>\n",
    "However, due to time and technological constraints, the corpus of 47 works was analyzed for this project. The coding and some explaination of it used for scraping and text analysis can be found in <a href=\"https://nbviewer.jupyter.org/github/nlgauvreau/LLCU612/blob/master/Final%20Assignment/Appendix%201%E2%80%93Scraping%20Work.ipynb\">Appendix 1</a> and <a href=\"https://nbviewer.jupyter.org/github/nlgauvreau/LLCU612/blob/master/Final%20Assignment/Appendix%202%E2%80%93Text%20Analysis%20Work.ipynb\">Appendix 2</a>, respectively.</p>"
   ]
  },
  {
   "cell_type": "markdown",
   "metadata": {
    "collapsed": true
   },
   "source": [
    "### Python 3"
   ]
  },
  {
   "cell_type": "markdown",
   "metadata": {},
   "source": [
    "The author used Python 3—with the NLTK, matplotlib, Beautiful Soup, and other libraries—to create local, plain text files of the text of fan works. "
   ]
  },
  {
   "cell_type": "markdown",
   "metadata": {},
   "source": [
    "### Voyant Tools"
   ]
  },
  {
   "cell_type": "markdown",
   "metadata": {},
   "source": [
    "<p>Voyant Tools has been previously used in in studying fanfiction and fandoms, notably by Sandra Strauch in her 2016 blog post <i>New Approaches in Digital Humanities – Digital Visualization Tools for Textual Analysis of Fan Fiction</i>. Strauch used Voyant Tools' to visualize (with the Knots function) the occurances of character names in a case study of fanfictions in popular fandoms and in different catagories of romantic or sexual pairings and to view words in context.</p>\n",
    "<p>This project also used Voyant Tools to view words in context, namely to see various adjectives and adverbs identified when using Python 3, NLTK, and matplotlib. In addititon, this project has used the Links tool to visualize the words most commonly linked to specific character names through out the entire corpus.</p>\n",
    "<p>The name \"midge\", for example,  is most commonly linked to midge, susie, lenny, like, and just once the English stopwords list (with variants to to say added) is applied. Midge is the nickname most of the titular Miriam Maisel, and she is most often called this. Susie and Lenny are other characters from the show, leaving only \"like\"and \"just\" as links. Lenny and Susie see similar linkages: \"lenny\" to lenny, midge, bruce (Lenny's surname), it's, and just and \"susie\" to susie, midge, miriam, hand, and like.</p>"
   ]
  },
  {
   "cell_type": "code",
   "execution_count": 19,
   "metadata": {},
   "outputs": [
    {
     "data": {
      "text/html": [
       "\n",
       "        <iframe\n",
       "            width=\"500\"\n",
       "            height=\"500\"\n",
       "            src=\"https://voyant-tools.org/tool/CollocatesGraph/?stopList=keywords-7bcf7a8ec4129cd444e7d7cec94bfd79&query=midge*&mode=corpus&corpus=e57653e15090fddb0b049113d176bcf5\"\n",
       "            frameborder=\"0\"\n",
       "            allowfullscreen\n",
       "        ></iframe>\n",
       "        "
      ],
      "text/plain": [
       "<IPython.lib.display.IFrame at 0x111e99be0>"
      ]
     },
     "execution_count": 19,
     "metadata": {},
     "output_type": "execute_result"
    }
   ],
   "source": [
    "from IPython.display import IFrame\n",
    "IFrame ('https://voyant-tools.org/tool/CollocatesGraph/?stopList=keywords-7bcf7a8ec4129cd444e7d7cec94bfd79&query=midge*&mode=corpus&corpus=e57653e15090fddb0b049113d176bcf5', width = 500, height = 500)"
   ]
  },
  {
   "cell_type": "code",
   "execution_count": 18,
   "metadata": {},
   "outputs": [
    {
     "data": {
      "text/html": [
       "\n",
       "        <iframe\n",
       "            width=\"500\"\n",
       "            height=\"500\"\n",
       "            src=\"https://voyant-tools.org/tool/CollocatesGraph/?stopList=keywords-7bcf7a8ec4129cd444e7d7cec94bfd79&query=lenny*&mode=corpus&corpus=e57653e15090fddb0b049113d176bcf5\"\n",
       "            frameborder=\"0\"\n",
       "            allowfullscreen\n",
       "        ></iframe>\n",
       "        "
      ],
      "text/plain": [
       "<IPython.lib.display.IFrame at 0x111e99a20>"
      ]
     },
     "execution_count": 18,
     "metadata": {},
     "output_type": "execute_result"
    }
   ],
   "source": [
    "from IPython.display import IFrame\n",
    "IFrame ('https://voyant-tools.org/tool/CollocatesGraph/?stopList=keywords-7bcf7a8ec4129cd444e7d7cec94bfd79&query=lenny*&mode=corpus&corpus=e57653e15090fddb0b049113d176bcf5', width = 500, height = 500)"
   ]
  },
  {
   "cell_type": "code",
   "execution_count": 17,
   "metadata": {},
   "outputs": [
    {
     "data": {
      "text/html": [
       "\n",
       "        <iframe\n",
       "            width=\"500\"\n",
       "            height=\"500\"\n",
       "            src=\"https://voyant-tools.org/tool/CollocatesGraph/?stopList=keywords-7bcf7a8ec4129cd444e7d7cec94bfd79&query=susie*&mode=corpus&corpus=e57653e15090fddb0b049113d176bcf5\"\n",
       "            frameborder=\"0\"\n",
       "            allowfullscreen\n",
       "        ></iframe>\n",
       "        "
      ],
      "text/plain": [
       "<IPython.lib.display.IFrame at 0x111e999e8>"
      ]
     },
     "execution_count": 17,
     "metadata": {},
     "output_type": "execute_result"
    }
   ],
   "source": [
    "from IPython.display import IFrame\n",
    "IFrame ('https://voyant-tools.org/tool/CollocatesGraph/?stopList=keywords-7bcf7a8ec4129cd444e7d7cec94bfd79&query=susie*&mode=corpus&corpus=e57653e15090fddb0b049113d176bcf5', width = 500, height = 500)"
   ]
  },
  {
   "cell_type": "markdown",
   "metadata": {},
   "source": [
    "<p>As the common links tell us little about sentiment to characters specifically (though they may express fan desires on character relationships), it was necessary to move on to looking at some of the adjectives and adverbs identified using Python 3 with NLTK and matplotlib, and which are visible in total corpus counts using the Collocates tool in Voyant.</p>\n",
    "<p>The word \"good\", for example, appeared in multiple graphs with matplotib and, according to Voyant, 217 times in the corpus. However, once examining with the Voyant's Contexts and Reader tools, Midge can be seen of as thinking of herself as not being a \"good Jewish girl\" for her thoughts or as \"good enough\" to do something, while her ex-husband Joel is descried as smelling good. The term \"pretty\", is seen in conjuntion with Midge, both on it's own and as a qualifier for \"beautiful\". However, it is apparent that adjectives not not often used to describe characters, but rather events or conditions. </p>"
   ]
  },
  {
   "cell_type": "code",
   "execution_count": 15,
   "metadata": {},
   "outputs": [
    {
     "data": {
      "text/html": [
       "\n",
       "        <iframe\n",
       "            width=\"950\"\n",
       "            height=\"300\"\n",
       "            src=\"https://voyant-tools.org/tool/Contexts/?query=good&corpus=e57653e15090fddb0b049113d176bcf5\"\n",
       "            frameborder=\"0\"\n",
       "            allowfullscreen\n",
       "        ></iframe>\n",
       "        "
      ],
      "text/plain": [
       "<IPython.lib.display.IFrame at 0x111e997b8>"
      ]
     },
     "execution_count": 15,
     "metadata": {},
     "output_type": "execute_result"
    }
   ],
   "source": [
    "from IPython.display import IFrame\n",
    "IFrame ('https://voyant-tools.org/tool/Contexts/?query=good&corpus=e57653e15090fddb0b049113d176bcf5', width = 950, height = 300)"
   ]
  },
  {
   "cell_type": "markdown",
   "metadata": {},
   "source": [
    "<p>Overall, adverbs appeared less often than adjectives. However, Susie and Lenny are frequently described as carefully doing things (often of a sexual nature, which perhaps says more about what fans wish would occur in the plot than it does about how they view the characters).</p>"
   ]
  },
  {
   "cell_type": "code",
   "execution_count": 16,
   "metadata": {},
   "outputs": [
    {
     "data": {
      "text/html": [
       "\n",
       "        <iframe\n",
       "            width=\"950\"\n",
       "            height=\"300\"\n",
       "            src=\"https://voyant-tools.org/tool/Contexts/?query=carefully&corpus=e57653e15090fddb0b049113d176bcf5\"\n",
       "            frameborder=\"0\"\n",
       "            allowfullscreen\n",
       "        ></iframe>\n",
       "        "
      ],
      "text/plain": [
       "<IPython.lib.display.IFrame at 0x111e998d0>"
      ]
     },
     "execution_count": 16,
     "metadata": {},
     "output_type": "execute_result"
    }
   ],
   "source": [
    "from IPython.display import IFrame\n",
    "IFrame ('https://voyant-tools.org/tool/Contexts/?query=carefully&corpus=e57653e15090fddb0b049113d176bcf5', width = 950, height = 300)"
   ]
  },
  {
   "cell_type": "code",
   "execution_count": null,
   "metadata": {
    "collapsed": true
   },
   "outputs": [],
   "source": []
  }
 ],
 "metadata": {
  "kernelspec": {
   "display_name": "Python 3",
   "language": "python",
   "name": "python3"
  },
  "language_info": {
   "codemirror_mode": {
    "name": "ipython",
    "version": 3
   },
   "file_extension": ".py",
   "mimetype": "text/x-python",
   "name": "python",
   "nbconvert_exporter": "python",
   "pygments_lexer": "ipython3",
   "version": "3.6.8"
  }
 },
 "nbformat": 4,
 "nbformat_minor": 2
}
