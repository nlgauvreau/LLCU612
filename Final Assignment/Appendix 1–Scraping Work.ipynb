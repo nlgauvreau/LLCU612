{
 "cells": [
  {
   "cell_type": "code",
   "execution_count": 1,
   "metadata": {
    "collapsed": true
   },
   "outputs": [],
   "source": [
    "import os\n",
    "\n",
    "directory = \"mrs maisel\"\n",
    "if not os.path.exists(directory):\n",
    "    os.makedirs(directory)"
   ]
  },
  {
   "cell_type": "code",
   "execution_count": 2,
   "metadata": {
    "collapsed": true
   },
   "outputs": [],
   "source": [
    "import urllib.request\n",
    "def fetch(url):\n",
    "    response = urllib.request.urlopen(url)\n",
    "    return response.read()"
   ]
  },
  {
   "cell_type": "code",
   "execution_count": 3,
   "metadata": {},
   "outputs": [
    {
     "data": {
      "text/plain": [
       "b'<!DOCTYPE html>\\n<html lang=\"en\">\\n  <head>\\n    <meta charset=\"utf-8\"/>\\n    <meta '"
      ]
     },
     "execution_count": 3,
     "metadata": {},
     "output_type": "execute_result"
    }
   ],
   "source": [
    "work1url = \"https://archiveofourown.org/works/18506923\"\n",
    "work1source = fetch(work1url)\n",
    "work1source[0:80]"
   ]
  },
  {
   "cell_type": "markdown",
   "metadata": {},
   "source": [
    "This code is intended to extract the text from the webapage and save it as a plain text file. In practice, it only works some of the time because many texts on AO3 require the reader to have an account or accept viewing content that may be for mature audiences. As such most texts were manually copied and pasted to plain text form."
   ]
  },
  {
   "cell_type": "code",
   "execution_count": null,
   "metadata": {},
   "outputs": [],
   "source": [
    "import urllib.request\n",
    "from bs4 import BeautifulSoup\n",
    "work1response = urllib.request.urlopen(\"https://archiveofourown.org/works/18506923\")\n",
    "work1 = work1response.read()\n",
    "work1soup = BeautifulSoup(work1, \"lxml\")\n",
    "content = work1soup.find(\"div\", class_=\"userstuff\")\n",
    "for i in content.findAll(\"p\"):\n",
    "    story = story + ' ' + i.text\n",
    "with open(\"mrs maisel/1.text\", \"w\") as file:\n",
    "    file.write(story)"
   ]
  },
  {
   "cell_type": "code",
   "execution_count": null,
   "metadata": {
    "collapsed": true
   },
   "outputs": [],
   "source": []
  }
 ],
 "metadata": {
  "kernelspec": {
   "display_name": "Python 3",
   "language": "python",
   "name": "python3"
  },
  "language_info": {
   "codemirror_mode": {
    "name": "ipython",
    "version": 3
   },
   "file_extension": ".py",
   "mimetype": "text/x-python",
   "name": "python",
   "nbconvert_exporter": "python",
   "pygments_lexer": "ipython3",
   "version": "3.6.8"
  }
 },
 "nbformat": 4,
 "nbformat_minor": 2
}
