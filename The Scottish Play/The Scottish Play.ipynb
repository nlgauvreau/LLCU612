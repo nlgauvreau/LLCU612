{
 "cells": [
  {
   "cell_type": "code",
   "execution_count": 36,
   "metadata": {},
   "outputs": [
    {
     "data": {
      "text/plain": [
       "\"\\ufeff\\r\\nProject Gutenberg Etext of Macbeth by Shakespeare\\r\\nPG has multiple editions of William Shakespeare's Complete Works\\r\\n\\r\\n\\r\\n\""
      ]
     },
     "execution_count": 36,
     "metadata": {},
     "output_type": "execute_result"
    }
   ],
   "source": [
    "import urllib.request\n",
    "url = \"http://www.gutenberg.org/cache/epub/1533/pg1533.txt\"\n",
    "source = urllib.request.urlopen(url).read().decode()\n",
    "source[0:124]"
   ]
  },
  {
   "cell_type": "code",
   "execution_count": 37,
   "metadata": {},
   "outputs": [
    {
     "data": {
      "text/plain": [
       "4449"
      ]
     },
     "execution_count": 37,
     "metadata": {},
     "output_type": "execute_result"
    }
   ],
   "source": [
    "lines = source.split(\"\\r\\n\")\n",
    "len(lines)"
   ]
  },
  {
   "cell_type": "markdown",
   "metadata": {},
   "source": [
    "To get the full text (minus the license, dramatis personæ, and end stuff) via a for loop:\n",
    "\n",
    "This does not look pretty"
   ]
  },
  {
   "cell_type": "code",
   "execution_count": 66,
   "metadata": {},
   "outputs": [
    {
     "data": {
      "text/plain": [
       "['SCENE: In the end of the Fourth Act, in England; through the rest',\n",
       " 'SCENE: In the end of the Fourth Act, in England; through the rest',\n",
       " \"of the Play, in Scotland; and chiefly at Macbeth's Castle.\",\n",
       " '',\n",
       " '',\n",
       " '',\n",
       " 'ACT I.',\n",
       " '',\n",
       " 'SCENE I. An open Place. Thunder and Lightning.',\n",
       " 'SCENE I. An open Place. Thunder and Lightning.',\n",
       " '',\n",
       " '[Enter three Witches.]',\n",
       " '',\n",
       " 'FIRST WITCH.',\n",
       " 'When shall we three meet again?',\n",
       " 'In thunder, lightning, or in rain?',\n",
       " '',\n",
       " 'SECOND WITCH.',\n",
       " \"When the hurlyburly's done,\",\n",
       " \"When the battle's lost and won.\",\n",
       " '',\n",
       " 'THIRD WITCH.',\n",
       " 'That will be ere the set of sun.',\n",
       " '',\n",
       " 'FIRST WITCH.',\n",
       " 'Where the place?',\n",
       " '',\n",
       " 'SECOND WITCH.',\n",
       " 'Upon the heath.',\n",
       " '']"
      ]
     },
     "execution_count": 66,
     "metadata": {},
     "output_type": "execute_result"
    }
   ],
   "source": [
    "import re\n",
    "lines = source.split(\"\\r\\n\")\n",
    "reading = False\n",
    "keep = []\n",
    "for line in lines:\n",
    "    if \"SCENE\" in line:\n",
    "        keep.append(line)\n",
    "    if \"End of Project\" in line:\n",
    "        break\n",
    "    elif keep:\n",
    "        keep.append(line)\n",
    "#keep #prints full array        \n",
    "keep [0:30] #prints lines 0 to 30 of array        "
   ]
  },
  {
   "cell_type": "markdown",
   "metadata": {},
   "source": [
    "Everything I have tried has failed.... Here are some of my failures at removing the speakers and scene markers:"
   ]
  },
  {
   "cell_type": "code",
   "execution_count": 79,
   "metadata": {},
   "outputs": [
    {
     "name": "stdout",
     "output_type": "stream",
     "text": [
      "\n",
      "\n"
     ]
    }
   ],
   "source": [
    "regex = r\"^\\w*[A-Z]\\w*[A-Z]\\w*.*\"\n",
    "joinedKeep = \"\".join(keep)\n",
    "print(re.sub(regex, r\"\\n\", joinedKeep))"
   ]
  },
  {
   "cell_type": "code",
   "execution_count": 80,
   "metadata": {},
   "outputs": [
    {
     "data": {
      "text/plain": [
       "['',\n",
       " '',\n",
       " '',\n",
       " '',\n",
       " '',\n",
       " '',\n",
       " '',\n",
       " '',\n",
       " '',\n",
       " '',\n",
       " '',\n",
       " '',\n",
       " '',\n",
       " '',\n",
       " '',\n",
       " '',\n",
       " '',\n",
       " '',\n",
       " '',\n",
       " '']"
      ]
     },
     "execution_count": 80,
     "metadata": {},
     "output_type": "execute_result"
    }
   ],
   "source": [
    "lines = macbeth.strip().split(\"\\r\\n\")\n",
    "speeches = []\n",
    "for line in lines:\n",
    "    if not re.match(\"^\\S\", line):\n",
    "        noAllCaps = re.sub(r\"^\\w*[A-Z]\\w*[A-Z]\\w*.*\", \"\", line)\n",
    "        speeches.append(noAllCaps)\n",
    "speeches[0:20]"
   ]
  },
  {
   "cell_type": "code",
   "execution_count": 82,
   "metadata": {},
   "outputs": [
    {
     "ename": "TypeError",
     "evalue": "expected string or bytes-like object",
     "output_type": "error",
     "traceback": [
      "\u001b[0;31m---------------------------------------------------------------------------\u001b[0m",
      "\u001b[0;31mTypeError\u001b[0m                                 Traceback (most recent call last)",
      "\u001b[0;32m<ipython-input-82-7a2fd59f6077>\u001b[0m in \u001b[0;36m<module>\u001b[0;34m()\u001b[0m\n\u001b[1;32m      1\u001b[0m \u001b[0mspeeches\u001b[0m \u001b[0;34m=\u001b[0m \u001b[0;34m[\u001b[0m\u001b[0;34m]\u001b[0m\u001b[0;34m\u001b[0m\u001b[0;34m\u001b[0m\u001b[0m\n\u001b[1;32m      2\u001b[0m \u001b[0;32mfor\u001b[0m \u001b[0mline\u001b[0m \u001b[0;32min\u001b[0m \u001b[0mkeep\u001b[0m\u001b[0;34m:\u001b[0m\u001b[0;34m\u001b[0m\u001b[0;34m\u001b[0m\u001b[0m\n\u001b[0;32m----> 3\u001b[0;31m     \u001b[0;32mif\u001b[0m \u001b[0;32mnot\u001b[0m \u001b[0mre\u001b[0m\u001b[0;34m.\u001b[0m\u001b[0mmatch\u001b[0m\u001b[0;34m(\u001b[0m\u001b[0;34m\"^\\S\"\u001b[0m\u001b[0;34m,\u001b[0m \u001b[0mkeep\u001b[0m\u001b[0;34m)\u001b[0m\u001b[0;34m:\u001b[0m\u001b[0;34m\u001b[0m\u001b[0;34m\u001b[0m\u001b[0m\n\u001b[0m\u001b[1;32m      4\u001b[0m         \u001b[0mnoAllCaps\u001b[0m \u001b[0;34m=\u001b[0m \u001b[0mre\u001b[0m\u001b[0;34m.\u001b[0m\u001b[0msub\u001b[0m\u001b[0;34m(\u001b[0m\u001b[0;34mr\"^\\w*[A-Z]\\w*[A-Z]\\w*.*\"\u001b[0m\u001b[0;34m,\u001b[0m \u001b[0;34m\"\"\u001b[0m\u001b[0;34m,\u001b[0m \u001b[0mkeep\u001b[0m\u001b[0;34m)\u001b[0m\u001b[0;34m\u001b[0m\u001b[0;34m\u001b[0m\u001b[0m\n\u001b[1;32m      5\u001b[0m         \u001b[0mspeeches\u001b[0m\u001b[0;34m.\u001b[0m\u001b[0mappend\u001b[0m\u001b[0;34m(\u001b[0m\u001b[0mnoAllCaps\u001b[0m\u001b[0;34m)\u001b[0m\u001b[0;34m\u001b[0m\u001b[0;34m\u001b[0m\u001b[0m\n",
      "\u001b[0;32m/Users/nicolegauvreau/anaconda/lib/python3.6/re.py\u001b[0m in \u001b[0;36mmatch\u001b[0;34m(pattern, string, flags)\u001b[0m\n\u001b[1;32m    170\u001b[0m     \"\"\"Try to apply the pattern at the start of the string, returning\n\u001b[1;32m    171\u001b[0m     a match object, or None if no match was found.\"\"\"\n\u001b[0;32m--> 172\u001b[0;31m     \u001b[0;32mreturn\u001b[0m \u001b[0m_compile\u001b[0m\u001b[0;34m(\u001b[0m\u001b[0mpattern\u001b[0m\u001b[0;34m,\u001b[0m \u001b[0mflags\u001b[0m\u001b[0;34m)\u001b[0m\u001b[0;34m.\u001b[0m\u001b[0mmatch\u001b[0m\u001b[0;34m(\u001b[0m\u001b[0mstring\u001b[0m\u001b[0;34m)\u001b[0m\u001b[0;34m\u001b[0m\u001b[0;34m\u001b[0m\u001b[0m\n\u001b[0m\u001b[1;32m    173\u001b[0m \u001b[0;34m\u001b[0m\u001b[0m\n\u001b[1;32m    174\u001b[0m \u001b[0;32mdef\u001b[0m \u001b[0mfullmatch\u001b[0m\u001b[0;34m(\u001b[0m\u001b[0mpattern\u001b[0m\u001b[0;34m,\u001b[0m \u001b[0mstring\u001b[0m\u001b[0;34m,\u001b[0m \u001b[0mflags\u001b[0m\u001b[0;34m=\u001b[0m\u001b[0;36m0\u001b[0m\u001b[0;34m)\u001b[0m\u001b[0;34m:\u001b[0m\u001b[0;34m\u001b[0m\u001b[0;34m\u001b[0m\u001b[0m\n",
      "\u001b[0;31mTypeError\u001b[0m: expected string or bytes-like object"
     ]
    }
   ],
   "source": [
    "#From this I assuem I can't put an array (list?) in an array (list?)\n",
    "speeches = []\n",
    "for line in keep:\n",
    "    if not re.match(\"^\\S\", keep):\n",
    "        noAllCaps = re.sub(r\"^\\w*[A-Z]\\w*[A-Z]\\w*.*\", \"\", keep)\n",
    "        speeches.append(noAllCaps)\n",
    "speeches[0:20]"
   ]
  },
  {
   "cell_type": "code",
   "execution_count": 83,
   "metadata": {},
   "outputs": [
    {
     "data": {
      "text/plain": [
       "[]"
      ]
     },
     "execution_count": 83,
     "metadata": {},
     "output_type": "execute_result"
    }
   ],
   "source": [
    "joinedKeep = \"\".join(keep)\n",
    "speeches = []\n",
    "for line in joinedKeep:\n",
    "    if not re.match(\"^\\S\", joinedKeep):\n",
    "        noAllCaps = re.sub(r\"^\\w*[A-Z]\\w*[A-Z]\\w*.*\", \"\", joinedKeep)\n",
    "        speeches.append(noAllCaps)\n",
    "speeches[0:20]"
   ]
  },
  {
   "cell_type": "markdown",
   "metadata": {},
   "source": [
    "# this cell intentionally left blank"
   ]
  },
  {
   "cell_type": "markdown",
   "metadata": {},
   "source": [
    "# this cell intentionally left blank"
   ]
  },
  {
   "cell_type": "markdown",
   "metadata": {},
   "source": [
    "# this cell intentionally left blank"
   ]
  },
  {
   "cell_type": "markdown",
   "metadata": {},
   "source": [
    "To get the full text (minus the license, dramatis personæ, and end stuff via the find function (things seen in class on Feb. 8):\n",
    "\n",
    "This does look nice, but I am still not fully there on understanding this and is thus ignoring its existence."
   ]
  },
  {
   "cell_type": "code",
   "execution_count": 62,
   "metadata": {},
   "outputs": [
    {
     "name": "stdout",
     "output_type": "stream",
     "text": [
      "SCENE: In the end of the Fourth Act, in England; through the rest\r\n",
      "of the Play, in Scotland; and chiefly at Macbeth's Castle. \n",
      "\n",
      " \r\n",
      "So, thanks to all at once, and to each one,\r\n",
      "Whom we invite to see us crown'd at Scone.\r\n",
      "\r\n",
      "[Flourish. Exeunt.]\r\n",
      "\r\n",
      "\r\n",
      "\r\n",
      "\r\n",
      "\r\n",
      "\n"
     ]
    }
   ],
   "source": [
    "locationOfScene = source.find(\"SCENE\")\n",
    "noStart = source[locationOfScene:]\n",
    "noStart\n",
    "locationOfEnd = noStart.find(\"End of Project\")\n",
    "macbeth = noStart[0:locationOfEnd]\n",
    "#print (macbeth) prints full text\n",
    "print (macbeth[0:125], \"\\n\\n\", macbeth[-124:]) #prints first 125 characters and last 124 characters"
   ]
  },
  {
   "cell_type": "code",
   "execution_count": null,
   "metadata": {
    "collapsed": true
   },
   "outputs": [],
   "source": []
  }
 ],
 "metadata": {
  "kernelspec": {
   "display_name": "Python 3",
   "language": "python",
   "name": "python3"
  },
  "language_info": {
   "codemirror_mode": {
    "name": "ipython",
    "version": 3
   },
   "file_extension": ".py",
   "mimetype": "text/x-python",
   "name": "python",
   "nbconvert_exporter": "python",
   "pygments_lexer": "ipython3",
   "version": "3.6.8"
  }
 },
 "nbformat": 4,
 "nbformat_minor": 2
}
