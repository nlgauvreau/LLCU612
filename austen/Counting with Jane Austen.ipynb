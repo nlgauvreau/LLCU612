{
 "cells": [
  {
   "cell_type": "markdown",
   "metadata": {},
   "source": [
    "Importing the files from my OS so that counting can take place:\n",
    "\n",
    "(Note: I could not import if the austen folder was not in the GitHub LLCU612 path even if I provided a full alternative pathway and I'm not sure why)"
   ]
  },
  {
   "cell_type": "code",
   "execution_count": 17,
   "metadata": {},
   "outputs": [
    {
     "data": {
      "text/plain": [
       "['1818 Northanger Abbey.txt',\n",
       " '1815 Emma.txt',\n",
       " '1811 Sense and Sensibility.txt',\n",
       " '1805 Lady Susan.txt',\n",
       " '1813 Pride and Prejudice.txt',\n",
       " '1790 Love And Freindship.txt',\n",
       " '1814 Mansfield Park.txt',\n",
       " '1818 Persuasion.txt']"
      ]
     },
     "execution_count": 17,
     "metadata": {},
     "output_type": "execute_result"
    }
   ],
   "source": [
    "import os\n",
    "path = \"/Users/nicolegauvreau/Documents/GitHub/LLCU612/austen\"\n",
    "os.chdir(path)\n",
    "os.listdir()"
   ]
  },
  {
   "cell_type": "markdown",
   "metadata": {},
   "source": [
    "Importing Glob, opening the files, joining them, reading them, and printing the file paths:"
   ]
  },
  {
   "cell_type": "code",
   "execution_count": 27,
   "metadata": {},
   "outputs": [
    {
     "name": "stdout",
     "output_type": "stream",
     "text": [
      "/Users/nicolegauvreau/Documents/GitHub/LLCU612/austen/1818 Northanger Abbey.txt\n",
      "/Users/nicolegauvreau/Documents/GitHub/LLCU612/austen/1815 Emma.txt\n",
      "/Users/nicolegauvreau/Documents/GitHub/LLCU612/austen/1811 Sense and Sensibility.txt\n",
      "/Users/nicolegauvreau/Documents/GitHub/LLCU612/austen/1805 Lady Susan.txt\n",
      "/Users/nicolegauvreau/Documents/GitHub/LLCU612/austen/1813 Pride and Prejudice.txt\n",
      "/Users/nicolegauvreau/Documents/GitHub/LLCU612/austen/1790 Love And Freindship.txt\n",
      "/Users/nicolegauvreau/Documents/GitHub/LLCU612/austen/1814 Mansfield Park.txt\n",
      "/Users/nicolegauvreau/Documents/GitHub/LLCU612/austen/1818 Persuasion.txt\n"
     ]
    }
   ],
   "source": [
    "import glob\n",
    "\n",
    "for filename in glob.glob(os.path.join(path, '*.txt')):\n",
    "  with open(filename, 'r') as f:\n",
    "    text = f.read()\n",
    "    print (filename)"
   ]
  },
  {
   "cell_type": "markdown",
   "metadata": {},
   "source": [
    "This counts the number of occurences (exact matches) of the word \"love\". It seems a bit low for Jane Austen, but it is exact matches.\n",
    "\n",
    "import re\n",
    "re.findall(r\"love*\", text)\n",
    "produced similarly low results and is thus not shown"
   ]
  },
  {
   "cell_type": "code",
   "execution_count": 19,
   "metadata": {},
   "outputs": [
    {
     "data": {
      "text/plain": [
       "71"
      ]
     },
     "execution_count": 19,
     "metadata": {},
     "output_type": "execute_result"
    }
   ],
   "source": [
    "text.count(\"love\")"
   ]
  },
  {
   "cell_type": "markdown",
   "metadata": {},
   "source": [
    "This counts the number of occurences (exact matches) of the word \"like\". It seems a bit low for Jane Austen, but it is exact matches."
   ]
  },
  {
   "cell_type": "code",
   "execution_count": 20,
   "metadata": {},
   "outputs": [
    {
     "data": {
      "text/plain": [
       "139"
      ]
     },
     "execution_count": 20,
     "metadata": {},
     "output_type": "execute_result"
    }
   ],
   "source": [
    "text.count(\"like\")"
   ]
  },
  {
   "cell_type": "markdown",
   "metadata": {},
   "source": [
    "Curious and curiouser, these numbers are still quiet a bit lower than expected."
   ]
  },
  {
   "cell_type": "code",
   "execution_count": 21,
   "metadata": {},
   "outputs": [
    {
     "data": {
      "text/plain": [
       "0"
      ]
     },
     "execution_count": 21,
     "metadata": {},
     "output_type": "execute_result"
    }
   ],
   "source": [
    "text.count(\"Love\")"
   ]
  },
  {
   "cell_type": "code",
   "execution_count": 22,
   "metadata": {},
   "outputs": [
    {
     "data": {
      "text/plain": [
       "1"
      ]
     },
     "execution_count": 22,
     "metadata": {},
     "output_type": "execute_result"
    }
   ],
   "source": [
    "text.count(\"Like\")"
   ]
  },
  {
   "cell_type": "code",
   "execution_count": 24,
   "metadata": {},
   "outputs": [
    {
     "data": {
      "text/plain": [
       "4"
      ]
     },
     "execution_count": 24,
     "metadata": {},
     "output_type": "execute_result"
    }
   ],
   "source": [
    "text.count(\"loves\")"
   ]
  },
  {
   "cell_type": "code",
   "execution_count": 25,
   "metadata": {},
   "outputs": [
    {
     "data": {
      "text/plain": [
       "2"
      ]
     },
     "execution_count": 25,
     "metadata": {},
     "output_type": "execute_result"
    }
   ],
   "source": [
    "text.count(\"likes\")"
   ]
  },
  {
   "cell_type": "markdown",
   "metadata": {},
   "source": [
    "And now to find meaning in life, or at least context in the text surrounding the word love....\n",
    "\n",
    "This could be used to determine speaker if expanded or to determine if the word love is more associated with one gender or another (spoiler, it occurs far more often in proximity and relation to being in love with females)."
   ]
  },
  {
   "cell_type": "code",
   "execution_count": 39,
   "metadata": {},
   "outputs": [
    {
     "data": {
      "text/plain": [
       "[['and\\nseemed to love her, rather because ',\n",
       "  'she would love her, than because\\n',\n",
       "  'hardly anybody to love; but the\\nencounter ',\n",
       "  'and deeply in love.\\nIt would be ',\n",
       "  \"a mother's love, and mother's \",\n",
       "  'glee as of love, and\\napparently more ',\n",
       "  'with you, my love, I have no ',\n",
       "  'to fall in love with all the\\n',\n",
       "  'of being in love with him; and ',\n",
       "  'was not in love with either.  They\\n',\n",
       "  'were more in love with him; yet ',\n",
       "  'it was not love.  It was a ',\n",
       "  'must, end in love with\\nsome.  Charles ',\n",
       "  'bright in prosperous love, all that was ',\n",
       "  'to be making love, by breaking his ',\n",
       "  'to be in\\nlove with an Elliot, ',\n",
       "  'and excessively in love with his friend.  ',\n",
       "  'large fortune, in love with him!\\nSir ',\n",
       "  's being in love\\nwith Elizabeth, which ',\n",
       "  'not being in love with Mrs\\nClay; ',\n",
       "  'upon place.\"\\n\\n\"I love your indignation,\" said ',\n",
       "  'joins me\\nin love, and everything proper.  ',\n",
       "  'his being in love with Louisa, and\\n',\n",
       "  'agree that we love her the better ',\n",
       "  'had ceased to love, had found he ',\n",
       "  'did not love her.\\nShe could ',\n",
       "  'heart.  He must love somebody.\\n\\nShe saw ',\n",
       "  'had fallen in love over poetry.  The ',\n",
       "  'he\\nlearnt to love her, because he ',\n",
       "  'One does\\nnot love a place the ',\n",
       "  'less.  He must love her.\\n\\nThese were ',\n",
       "  'of an Italian love-song must not ',\n",
       "  'of high-wrought love and eternal constancy, ',\n",
       "  'and fell in love with him; and ',\n",
       "  'send but my love.  Oh!\\nyou may ',\n",
       "  'upright!  My best love, of course.\"\\n\\n\"And ',\n",
       "  'I know you love a play; and ',\n",
       "  'those they do love, or\\nhave loved.  ',\n",
       "  'the woman you\\nlove lives, and lives ',\n",
       "  'woman, that his love has an\\nearlier ',\n",
       "  'whom you will love better than you\\n',\n",
       "  's meaning to\\nlove Captain Wentworth as ']]"
      ]
     },
     "execution_count": 39,
     "metadata": {},
     "output_type": "execute_result"
    }
   ],
   "source": [
    "import re\n",
    "\n",
    "contextRe = []\n",
    "searchContextRe = text\n",
    "contextRe.append(re.findall(r\"(?:[a-zA-Z]+[^a-zA-Z]+){0,3}love(?:[^a-zA-Z]+|$)(?:[a-zA-Z]+[^a-zA-Z]*){0,3}\", searchContextRe))\n",
    "contextRe"
   ]
  },
  {
   "cell_type": "markdown",
   "metadata": {},
   "source": [
    "# Reflection"
   ]
  },
  {
   "cell_type": "markdown",
   "metadata": {},
   "source": [
    "I honestly can't think right now and thus don't have much of a reflection. Not because of this mini assignment, but because I just finally gave up on the last one. I think I understand this one a lot better (or I at least made something happen that was supposed to). I am understanding how very easily one can move from non-consumptive usage to consumptave usage of text though if you just choose to display enough of the string that surround that you are technically looking for.\n",
    "\n",
    "In terms of usign regular expressions for text counts, I can see where you would want to if it's a small corpus or if you think the count is wrong (that's why I tried), or of course if you want context you need to. But, if you just want frequency it seems like a lot of unecessary work."
   ]
  }
 ],
 "metadata": {
  "kernelspec": {
   "display_name": "Python 3",
   "language": "python",
   "name": "python3"
  },
  "language_info": {
   "codemirror_mode": {
    "name": "ipython",
    "version": 3
   },
   "file_extension": ".py",
   "mimetype": "text/x-python",
   "name": "python",
   "nbconvert_exporter": "python",
   "pygments_lexer": "ipython3",
   "version": "3.6.8"
  }
 },
 "nbformat": 4,
 "nbformat_minor": 2
}
