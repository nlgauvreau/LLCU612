{
 "cells": [
  {
   "cell_type": "code",
   "execution_count": 1,
   "metadata": {},
   "outputs": [
    {
     "data": {
      "text/plain": [
       "['.DS_Store',\n",
       " '1818 Northanger Abbey.txt',\n",
       " '1815 Emma.txt',\n",
       " '1811 Sense and Sensibility.txt',\n",
       " '1805 Lady Susan.txt',\n",
       " '1813 Pride and Prejudice.txt',\n",
       " '1790 Love And Freindship.txt',\n",
       " '1814 Mansfield Park.txt',\n",
       " '1818 Persuasion.txt']"
      ]
     },
     "execution_count": 1,
     "metadata": {},
     "output_type": "execute_result"
    }
   ],
   "source": [
    "import os\n",
    "path = \"/Users/nicolegauvreau/Documents/GitHub/LLCU612/austen\"\n",
    "os.chdir(path)\n",
    "os.listdir()"
   ]
  },
  {
   "cell_type": "markdown",
   "metadata": {},
   "source": [
    "To combine texts into one file, starting new files on a new line (may have added extra space)"
   ]
  },
  {
   "cell_type": "code",
   "execution_count": 2,
   "metadata": {},
   "outputs": [],
   "source": [
    "import glob\n",
    "import os\n",
    "allAusten = glob.glob(\"*.txt\")\n",
    "\n",
    "with open(\"austen.txt\", \"w\") as result:\n",
    "    for file_ in allAusten:\n",
    "        for line in open(file_, \"r\"):\n",
    "            result.write(line + \"\\n\")"
   ]
  },
  {
   "cell_type": "code",
   "execution_count": 5,
   "metadata": {},
   "outputs": [
    {
     "name": "stdout",
     "output_type": "stream",
     "text": [
      "This string has 4,416,644 characters\n"
     ]
    }
   ],
   "source": [
    "with open(\"austen.txt\", \"r\") as f:\n",
    "    austen = f.read()\n",
    "print(\"This string has\", \"{:,}\".format(len(austen)), \"characters\")"
   ]
  },
  {
   "cell_type": "markdown",
   "metadata": {},
   "source": [
    "Tokenizing and making lowercase with only words and numbers (no punctuation)\n",
    "\n",
    "Displaying only the first 25 tokens"
   ]
  },
  {
   "cell_type": "code",
   "execution_count": 7,
   "metadata": {},
   "outputs": [
    {
     "name": "stdout",
     "output_type": "stream",
     "text": [
      "['northanger', 'abbey', 'by', 'jane', 'austen', '1803', 'advertisement', 'by', 'the', 'authoress', 'to', 'northanger', 'abbey', 'this', 'little', 'work', 'was', 'finished', 'in', 'the', 'year', '1803', 'and', 'intended', 'for']\n"
     ]
    }
   ],
   "source": [
    "import re\n",
    "tokens = re.findall(r'\\b\\w[\\w-]*\\b', austen.lower())\n",
    "print(tokens[:25])"
   ]
  },
  {
   "cell_type": "markdown",
   "metadata": {},
   "source": [
    "In reality I don't care about all the stuff that is not part of the literary text, but since I will also do this in Voyant, I did not go through and delete the author's notes, etc."
   ]
  },
  {
   "cell_type": "code",
   "execution_count": 12,
   "metadata": {},
   "outputs": [
    {
     "name": "stdout",
     "output_type": "stream",
     "text": [
      "['i', 'you', 'and', 'would', 'night', 'try', 'at', 'to', 'rooms', 'keep', 'the', 'some', 'from', 'account', 'i', 'you', 'then', 'could', 'and', 'dance', 'now', 'my', 'every', 'dear--i', 'placidly']\n"
     ]
    }
   ],
   "source": [
    "wrd2find = \"wish\"\n",
    "context = 7\n",
    "\n",
    "end = len(tokens)\n",
    "counter = 0\n",
    "collocates = []\n",
    "for word in tokens:\n",
    "    if word == wrd2find:\n",
    "        for i in range(context):\n",
    "            if (counter - (i + 1)) >= 0: \n",
    "                collocates.append(tokens[(counter - (i + 1))]) \n",
    "            if (counter + (i + 1)) < end: \n",
    "                collocates.append(tokens[(counter + (i + 1))])\n",
    "    counter = counter + 1\n",
    "    \n",
    "print(collocates[:25])"
   ]
  },
  {
   "cell_type": "markdown",
   "metadata": {},
   "source": [
    "Printing number of unique collocates for \"wish\""
   ]
  },
  {
   "cell_type": "code",
   "execution_count": 16,
   "metadata": {},
   "outputs": [
    {
     "name": "stdout",
     "output_type": "stream",
     "text": [
      "1528\n"
     ]
    }
   ],
   "source": [
    "print(len(set(collocates)))"
   ]
  },
  {
   "cell_type": "markdown",
   "metadata": {},
   "source": [
    "Printing top five collocates for \"wish\". They will likely be stop words and thus not appear in Voyant unless stop words are included."
   ]
  },
  {
   "cell_type": "code",
   "execution_count": 21,
   "metadata": {},
   "outputs": [
    {
     "name": "stdout",
     "output_type": "stream",
     "text": [
      "  i  to  of the and \n",
      "414 367 227 213 179 \n"
     ]
    }
   ],
   "source": [
    "import nltk\n",
    "tokenDist = nltk.FreqDist(collocates)\n",
    "tokenDist.tabulate(5)"
   ]
  },
  {
   "cell_type": "code",
   "execution_count": 13,
   "metadata": {},
   "outputs": [
    {
     "name": "stdout",
     "output_type": "stream",
     "text": [
      "['common', 'of', 'the', 'common', 'with', 'life', 'consistent', 'than', 'rather', 'with', 'seemed', 'the', 'which', 'refined', 'your', 'are', 'seriously', 'easily', 'more', 'understood', 'speaking', 'where', 'you', 'the', 'blame']\n"
     ]
    }
   ],
   "source": [
    "wrd2find = \"feelings\"\n",
    "context = 7\n",
    "\n",
    "end = len(tokens)\n",
    "counter = 0\n",
    "collocates2 = []\n",
    "for word in tokens:\n",
    "    if word == wrd2find:\n",
    "        for i in range(context):\n",
    "            if (counter - (i + 1)) >= 0: \n",
    "                collocates2.append(tokens[(counter - (i + 1))]) \n",
    "            if (counter + (i + 1)) < end: \n",
    "                collocates2.append(tokens[(counter + (i + 1))])\n",
    "    counter = counter + 1\n",
    "    \n",
    "print(collocates2[:25])"
   ]
  },
  {
   "cell_type": "markdown",
   "metadata": {},
   "source": [
    "Printing number of unique collocates for \"feelings\""
   ]
  },
  {
   "cell_type": "code",
   "execution_count": 17,
   "metadata": {},
   "outputs": [
    {
     "name": "stdout",
     "output_type": "stream",
     "text": [
      "1730\n"
     ]
    }
   ],
   "source": [
    "print(len(set(collocates2)))"
   ]
  },
  {
   "cell_type": "markdown",
   "metadata": {},
   "source": [
    "Printing top five collocates for \"feelings\". They will likely be stop words and thus not appear in Voyant unless stop words are included."
   ]
  },
  {
   "cell_type": "code",
   "execution_count": 22,
   "metadata": {},
   "outputs": [
    {
     "name": "stdout",
     "output_type": "stream",
     "text": [
      "the  of  to and her \n",
      "330 305 270 258 239 \n"
     ]
    }
   ],
   "source": [
    "import nltk\n",
    "tokenDist = nltk.FreqDist(collocates2)\n",
    "tokenDist.tabulate(5)"
   ]
  }
 ],
 "metadata": {
  "kernelspec": {
   "display_name": "Python 3",
   "language": "python",
   "name": "python3"
  },
  "language_info": {
   "codemirror_mode": {
    "name": "ipython",
    "version": 3
   },
   "file_extension": ".py",
   "mimetype": "text/x-python",
   "name": "python",
   "nbconvert_exporter": "python",
   "pygments_lexer": "ipython3",
   "version": "3.6.8"
  }
 },
 "nbformat": 4,
 "nbformat_minor": 2
}
