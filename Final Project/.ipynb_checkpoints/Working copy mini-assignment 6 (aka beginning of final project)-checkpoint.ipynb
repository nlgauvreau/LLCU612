{
 "cells": [
  {
   "cell_type": "markdown",
   "metadata": {},
   "source": [
    "# Mini-Assignment 6"
   ]
  },
  {
   "cell_type": "markdown",
   "metadata": {},
   "source": [
    "## A not-so-short paragraph/multiple very short paragraphs"
   ]
  },
  {
   "attachments": {},
   "cell_type": "markdown",
   "metadata": {},
   "source": [
    "Originally I had hoped to look at the major operas of Richard Wagner in the orignal German and in translation to English (and possibly French) as they should all be out of copyright. However, while there are high quality version available in German for most of the operas (in HTML format and sperated by act or scene), there are fewer available in English and fewer still in French. That said, not all the operas were avaiable in German either (I could only find <i>Parsifal</i> in English) and could not find <i>Tannhäuser und der Sängerkrieg auf Wartburg</i> at all all.\n",
    "\n",
    "I was originally going to try and use HaithiTrust in addion to Project Gutenberg and Projekt Gutenberg (the German version in cooperation with <i>Der Spiegel</i>). However, after looking at many of the text-only versions I realized they had incredibly poor OCR that wasn't edited and may have been encoded in ASCII as it was garbled where there should have been diacritics. Many texts were also avaible as search only despite being published in the 19th century.\n",
    "\n",
    "This left me with a corpus of seven texts in German (of a desired nine), one available only in English and five for which I found the German, and five in French. For the English and French translations some are two or four texts combined in one volume. Ultimately I believe I will need to move away from looking at translation and how things are represented in each langauge and rather look only at the German.\n",
    "\n",
    "I intend to use Python to extract (some in plain text format and some in HTML format)the texts and save them to my computer, then perform text mining from the local files. For this assignment, I will scrape three urls that make up one text and save them locally. However, I will not be converting or cleaning them (for this assignment only aas I thought it was due on Tuesday rather than Monday), which will result in frequencies likely not being words."
   ]
  },
  {
   "cell_type": "markdown",
   "metadata": {},
   "source": [
    "## Creating a directory and importing the URLs"
   ]
  },
  {
   "cell_type": "code",
   "execution_count": 1,
   "metadata": {
    "collapsed": true
   },
   "outputs": [],
   "source": [
    "import os\n",
    "\n",
    "directory = \"texts\"\n",
    "if not os.path.exists(directory):\n",
    "    os.makedirs(directory)"
   ]
  },
  {
   "cell_type": "code",
   "execution_count": 7,
   "metadata": {},
   "outputs": [],
   "source": [
    "import urllib.request\n",
    "urlRoot = \"https://gutenberg.spiegel.de/buch/die-meistersinger-von-nurnberg-841\"\n",
    "urls = [\"https://gutenberg.spiegel.de/buch/die-meistersinger-von-nurnberg-841/1\", \"https://gutenberg.spiegel.de/buch/die-meistersinger-von-nurnberg-841/2\", \"https://gutenberg.spiegel.de/buch/die-meistersinger-von-nurnberg-841/3\"]"
   ]
  },
  {
   "cell_type": "code",
   "execution_count": 8,
   "metadata": {},
   "outputs": [
    {
     "name": "stdout",
     "output_type": "stream",
     "text": [
      "fetching: https://gutenberg.spiegel.de/buch/die-meistersinger-von-nurnberg-841/3\n",
      "fetching: https://gutenberg.spiegel.de/buch/die-meistersinger-von-nurnberg-841/2\n",
      "fetching: https://gutenberg.spiegel.de/buch/die-meistersinger-von-nurnberg-841/1\n"
     ]
    }
   ],
   "source": [
    "import re\n",
    "import time\n",
    "\n",
    "for url in set(urls):\n",
    "    clean_url = re.sub(r'\\s+', \"\", url)\n",
    "    filename = os.path.basename(clean_url)\n",
    "    path = os.path.join(directory, filename)\n",
    "    if os.path.exists(path):\n",
    "        print(\"already fetched:\", clean_url) \n",
    "    else: \n",
    "        print(\"fetching:\", clean_url) \n",
    "        contents = urllib.request.urlopen(urlRoot+clean_url).read()\n",
    "        with open(path, \"wb\") as f:\n",
    "            f.write(contents)"
   ]
  },
  {
   "cell_type": "markdown",
   "metadata": {},
   "source": [
    "I manually renamed the files to \"Meistersinger1.txt\", \"Meistersinger2.txt\", and \"Meistersinger3.txt\"."
   ]
  },
  {
   "cell_type": "markdown",
   "metadata": {},
   "source": [
    "## A Voyant visualization of the five most common terms in <i>Die Meistersinger von Nürnberg</i>"
   ]
  },
  {
   "cell_type": "code",
   "execution_count": 9,
   "metadata": {},
   "outputs": [
    {
     "data": {
      "text/html": [
       "\n",
       "        <iframe\n",
       "            width=\"465\"\n",
       "            height=\"338\"\n",
       "            src=\"https://voyant-tools.org/tool/Bubblelines/?query=sachs&query=walther&query=beckmesser&query=eva&query=meister&docId=f8095e74d88fd9f4876c1517db1aea6b&docId=d77a11244aeb2ee12a8a3db9f4b847ed&docId=5aa77b70b1709c59bb9531a4de417df7&corpus=d0b4d68e580fe6fdd41cb0584eb57fc9\"\n",
       "            frameborder=\"0\"\n",
       "            allowfullscreen\n",
       "        ></iframe>\n",
       "        "
      ],
      "text/plain": [
       "<IPython.lib.display.IFrame at 0x1111dbf28>"
      ]
     },
     "execution_count": 9,
     "metadata": {},
     "output_type": "execute_result"
    }
   ],
   "source": [
    "from IPython.display import IFrame\n",
    "IFrame(\"https://voyant-tools.org/tool/Bubblelines/?query=sachs&query=walther&query=beckmesser&query=eva&query=meister&docId=f8095e74d88fd9f4876c1517db1aea6b&docId=d77a11244aeb2ee12a8a3db9f4b847ed&docId=5aa77b70b1709c59bb9531a4de417df7&corpus=d0b4d68e580fe6fdd41cb0584eb57fc9\", width=465, height=338)"
   ]
  },
  {
   "cell_type": "markdown",
   "metadata": {},
   "source": [
    "With the same text (ideally from your corpus but possibly from elsewhere) generate a simple term frequency graph as has been modelled in the meta-guide. Briefly comment on what you see. Comment the code as appropriate.\n",
    "## Term Frequency graphs with Python 3, NLTK, and matplotlib.pyplot"
   ]
  },
  {
   "cell_type": "markdown",
   "metadata": {},
   "source": [
    "I could not figure out how to make one term frequency graph with three files, so there are three graphs."
   ]
  },
  {
   "cell_type": "code",
   "execution_count": 10,
   "metadata": {
    "collapsed": true
   },
   "outputs": [],
   "source": [
    "import matplotlib.pyplot as plt\n",
    "import nltk"
   ]
  },
  {
   "cell_type": "code",
   "execution_count": 32,
   "metadata": {},
   "outputs": [
    {
     "data": {
      "text/plain": [
       "b'<!DOCTYPE HTML PUBLIC \"-//W3C//DTD HTML 4.01 Transitional//EN\" \"http://www.w3.org/TR/html4/loose.dtd'"
      ]
     },
     "execution_count": 32,
     "metadata": {},
     "output_type": "execute_result"
    }
   ],
   "source": [
    "f = open(\"texts/Meistersinger1.txt\", \"rb\")\n",
    "part1 = f.read()\n",
    "part1 [0:100]"
   ]
  },
  {
   "cell_type": "code",
   "execution_count": 35,
   "metadata": {},
   "outputs": [],
   "source": [
    "#def fetch(url):\n",
    "    #response = urllib.request.urlopen(url) # open for reading\n",
    "    #return response.read()\n",
    "#part1Url = \"https://gutenberg.spiegel.de/buch/die-meistersinger-von-nurnberg-841/1\"\n",
    "#part1Source = fetch(part1Url)\n",
    "\n",
    "#from bs4 import BeautifulSoup\n",
    "\n",
    "#def extract(part1Source):\n",
    "    #soup = BeautifulSoup(part1Source)\n",
    "    #return soup.find(\"pre\").find(\"pre\").text.strip() \n",
    "#part1Text = extract(part1Source) # extract text from source\n",
    "#part1Text[0:80]"
   ]
  },
  {
   "cell_type": "code",
   "execution_count": 33,
   "metadata": {},
   "outputs": [
    {
     "name": "stdout",
     "output_type": "stream",
     "text": [
      "   32   101   115    97   105   110   114   116   108    34    62    60     9   104   112    99    47    10   117   111 \n",
      "22667 11213  7853  7563  6716  6614  6508  6362  6062  4828  4600  4586  4046  3829  3810  3591  3482  3374  3298  3103 \n"
     ]
    }
   ],
   "source": [
    "#part1TokensLowercase = nltk.word_tokenize(part1.lower())\n",
    "#part1WordTokensLowercase = [word for word in part1TokensLowercase if word[0].isalpha()]\n",
    "part1Freqs = nltk.FreqDist(part1)\n",
    "part1Freqs.tabulate(20)"
   ]
  },
  {
   "cell_type": "code",
   "execution_count": 34,
   "metadata": {},
   "outputs": [
    {
     "data": {
      "image/png": "[encoded data removed]",
      "text/plain": [
       "<matplotlib.figure.Figure at 0x11deecd68>"
      ]
     },
     "metadata": {},
     "output_type": "display_data"
    }
   ],
   "source": [
    "%matplotlib inline\n",
    "\n",
    "part1Freqs.plot(25, title=\"Frequency Distribution in Part 1—not cleaned\")"
   ]
  },
  {
   "cell_type": "code",
   "execution_count": 36,
   "metadata": {},
   "outputs": [
    {
     "data": {
      "text/plain": [
       "b'<!DOCTYPE HTML PUBLIC \"-//W3C//DTD HTML 4.01 Transitional//EN\" \"http://www.w3.org/TR/html4/loose.dtd'"
      ]
     },
     "execution_count": 36,
     "metadata": {},
     "output_type": "execute_result"
    }
   ],
   "source": [
    "f = open(\"texts/Meistersinger2.txt\", \"rb\")\n",
    "part2 = f.read()\n",
    "part2 [0:100]"
   ]
  },
  {
   "cell_type": "code",
   "execution_count": 37,
   "metadata": {},
   "outputs": [
    {
     "name": "stdout",
     "output_type": "stream",
     "text": [
      "   32   101   115    97   105   110   114   116   108    34    62    60     9   104   112    99    47    10   117   111 \n",
      "22667 11213  7853  7563  6716  6614  6508  6362  6062  4828  4600  4586  4046  3829  3810  3591  3482  3374  3298  3103 \n"
     ]
    }
   ],
   "source": [
    "part2Freqs = nltk.FreqDist(part1)\n",
    "part2Freqs.tabulate(20)"
   ]
  },
  {
   "cell_type": "code",
   "execution_count": 38,
   "metadata": {},
   "outputs": [
    {
     "data": {
      "image/png": "[encoded data removed]",
      "text/plain": [
       "<matplotlib.figure.Figure at 0x121057978>"
      ]
     },
     "metadata": {},
     "output_type": "display_data"
    }
   ],
   "source": [
    "%matplotlib inline\n",
    "\n",
    "part2Freqs.plot(25, title=\"Frequency Distribution in Part 2—not cleaned\")"
   ]
  },
  {
   "cell_type": "code",
   "execution_count": 40,
   "metadata": {},
   "outputs": [
    {
     "data": {
      "text/plain": [
       "b'<!DOCTYPE HTML PUBLIC \"-//W3C//DTD HTML 4.01 Transitional//EN\" \"http://www.w3.org/TR/html4/loose.dtd'"
      ]
     },
     "execution_count": 40,
     "metadata": {},
     "output_type": "execute_result"
    }
   ],
   "source": [
    "f = open(\"texts/Meistersinger3.txt\", \"rb\")\n",
    "part3 = f.read()\n",
    "part3 [0:100]"
   ]
  },
  {
   "cell_type": "code",
   "execution_count": 41,
   "metadata": {},
   "outputs": [
    {
     "name": "stdout",
     "output_type": "stream",
     "text": [
      "   32   101   115    97   105   110   114   116   108    34    62    60     9   104   112    99    47    10   117   111 \n",
      "22667 11213  7853  7563  6716  6614  6508  6362  6062  4828  4600  4586  4046  3829  3810  3591  3482  3374  3298  3103 \n"
     ]
    }
   ],
   "source": [
    "part3Freqs = nltk.FreqDist(part1)\n",
    "part3Freqs.tabulate(20)"
   ]
  },
  {
   "cell_type": "code",
   "execution_count": 43,
   "metadata": {},
   "outputs": [
    {
     "data": {
      "image/png": "[encoded data removed]",
      "text/plain": [
       "<matplotlib.figure.Figure at 0x121109da0>"
      ]
     },
     "metadata": {},
     "output_type": "display_data"
    }
   ],
   "source": [
    "%matplotlib inline\n",
    "\n",
    "part3Freqs.plot(25, title=\"Frequency Distribution in Part 3—not cleaned\")"
   ]
  },
  {
   "cell_type": "code",
   "execution_count": null,
   "metadata": {
    "collapsed": true
   },
   "outputs": [],
   "source": []
  }
 ],
 "metadata": {
  "kernelspec": {
   "display_name": "Python 3",
   "language": "python",
   "name": "python3"
  },
  "language_info": {
   "codemirror_mode": {
    "name": "ipython",
    "version": 3
   },
   "file_extension": ".py",
   "mimetype": "text/x-python",
   "name": "python",
   "nbconvert_exporter": "python",
   "pygments_lexer": "ipython3",
   "version": "3.6.8"
  }
 },
 "nbformat": 4,
 "nbformat_minor": 2
}
